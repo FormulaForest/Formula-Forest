{
 "cells": [
  {
   "cell_type": "code",
   "execution_count": 1,
   "metadata": {},
   "outputs": [],
   "source": [
    "import numpy as np\n",
    "from math import cos, sin"
   ]
  },
  {
   "cell_type": "code",
   "execution_count": 9,
   "metadata": {},
   "outputs": [],
   "source": [
    "def det(M):\n",
    "    return M[0,0]*M[1,1]*M[2,2]+M[1,0]*M[2,1]*M[0,2]+M[2,0]*M[0,1]*M[1,2] - M[0,2]*M[1,1]*M[2,0]-M[0,0]*M[1,2]*M[2,1]-M[0,1]*M[1,0]*M[2,2]"
   ]
  },
  {
   "cell_type": "markdown",
   "metadata": {},
   "source": [
    "# Test of directional unit vector approach instead of vector theta."
   ]
  },
  {
   "cell_type": "code",
   "execution_count": 15,
   "metadata": {},
   "outputs": [],
   "source": [
    "omega = np.array([0.2, 0.4, 0.16])\n",
    "dt = 0.1"
   ]
  },
  {
   "cell_type": "code",
   "execution_count": 16,
   "metadata": {},
   "outputs": [],
   "source": [
    "Sigma = np.mat([[0, -omega[2], omega[1]],\n",
    "            [omega[2], 0, -omega[0]],\n",
    "            [-omega[1], omega[0], 0]])"
   ]
  },
  {
   "cell_type": "code",
   "execution_count": 17,
   "metadata": {},
   "outputs": [
    {
     "data": {
      "text/plain": [
       "matrix([[ 1.   , -0.016,  0.04 ],\n",
       "        [ 0.016,  1.   , -0.02 ],\n",
       "        [-0.04 ,  0.02 ,  1.   ]])"
      ]
     },
     "execution_count": 17,
     "metadata": {},
     "output_type": "execute_result"
    }
   ],
   "source": [
    "R = np.identity(3) + Sigma * dt\n",
    "R"
   ]
  },
  {
   "cell_type": "code",
   "execution_count": 18,
   "metadata": {},
   "outputs": [
    {
     "data": {
      "text/plain": [
       "1.0022559999999998"
      ]
     },
     "execution_count": 18,
     "metadata": {},
     "output_type": "execute_result"
    }
   ],
   "source": [
    "det(R)"
   ]
  },
  {
   "cell_type": "code",
   "execution_count": 7,
   "metadata": {},
   "outputs": [
    {
     "data": {
      "text/plain": [
       "array([[1],\n",
       "       [0],\n",
       "       [0]])"
      ]
     },
     "execution_count": 7,
     "metadata": {},
     "output_type": "execute_result"
    }
   ],
   "source": [
    "v1 = np.array([1,0,0]).reshape(-1, 1)\n",
    "v1"
   ]
  },
  {
   "cell_type": "code",
   "execution_count": 8,
   "metadata": {},
   "outputs": [
    {
     "data": {
      "text/plain": [
       "matrix([[ 1.0e+00],\n",
       "        [ 1.6e-05],\n",
       "        [-4.0e-05]])"
      ]
     },
     "execution_count": 8,
     "metadata": {},
     "output_type": "execute_result"
    }
   ],
   "source": [
    "v2 = R * v1\n",
    "v2"
   ]
  },
  {
   "cell_type": "code",
   "execution_count": 19,
   "metadata": {},
   "outputs": [
    {
     "data": {
      "text/plain": [
       "matrix([[ 0.99999814],\n",
       "        [ 0.0160168 ],\n",
       "        [-0.04003968]])"
      ]
     },
     "execution_count": 19,
     "metadata": {},
     "output_type": "execute_result"
    }
   ],
   "source": [
    "R*v2"
   ]
  },
  {
   "cell_type": "markdown",
   "metadata": {},
   "source": [
    "# Original approach - failed"
   ]
  },
  {
   "cell_type": "code",
   "execution_count": 83,
   "metadata": {},
   "outputs": [],
   "source": [
    "Mx = np.mat([[1, 0, 0],\n",
    "              [0, cos(theta[0]), -1*sin(theta[0])],\n",
    "              [0, sin(theta[0]), cos(theta[0])]\n",
    "              ])"
   ]
  },
  {
   "cell_type": "code",
   "execution_count": 84,
   "metadata": {},
   "outputs": [
    {
     "data": {
      "text/plain": [
       "matrix([[ 1.        ,  0.        ,  0.        ],\n",
       "        [ 0.        ,  0.98006658, -0.19866933],\n",
       "        [ 0.        ,  0.19866933,  0.98006658]])"
      ]
     },
     "execution_count": 84,
     "metadata": {},
     "output_type": "execute_result"
    }
   ],
   "source": [
    "Mx"
   ]
  },
  {
   "cell_type": "code",
   "execution_count": 85,
   "metadata": {},
   "outputs": [],
   "source": [
    "My = np.mat([[cos(theta[1]), 0, sin(theta[1])],\n",
    "              [0, 1, 0],\n",
    "              [-1*sin(theta[1]), 0, cos(theta[1])]\n",
    "              ])"
   ]
  },
  {
   "cell_type": "code",
   "execution_count": 86,
   "metadata": {},
   "outputs": [
    {
     "data": {
      "text/plain": [
       "matrix([[ 0.92106099,  0.        ,  0.38941834],\n",
       "        [ 0.        ,  1.        ,  0.        ],\n",
       "        [-0.38941834,  0.        ,  0.92106099]])"
      ]
     },
     "execution_count": 86,
     "metadata": {},
     "output_type": "execute_result"
    }
   ],
   "source": [
    "My"
   ]
  },
  {
   "cell_type": "code",
   "execution_count": 87,
   "metadata": {},
   "outputs": [],
   "source": [
    "Mz = np.mat([[cos(theta[2]), -1*sin(theta[2]), 0],\n",
    "              [sin(theta[2]), cos(theta[2]), 0],\n",
    "              [0, 0, 1]\n",
    "              ])"
   ]
  },
  {
   "cell_type": "code",
   "execution_count": 88,
   "metadata": {},
   "outputs": [
    {
     "data": {
      "text/plain": [
       "matrix([[ 0.98722728, -0.15931821,  0.        ],\n",
       "        [ 0.15931821,  0.98722728,  0.        ],\n",
       "        [ 0.        ,  0.        ,  1.        ]])"
      ]
     },
     "execution_count": 88,
     "metadata": {},
     "output_type": "execute_result"
    }
   ],
   "source": [
    "Mz"
   ]
  },
  {
   "cell_type": "code",
   "execution_count": 89,
   "metadata": {},
   "outputs": [
    {
     "data": {
      "text/plain": [
       "matrix([[ 0.90929654, -0.14674179,  0.38941834],\n",
       "        [ 0.23251976,  0.95522274, -0.18298657],\n",
       "        [-0.34512948,  0.25693652,  0.9027011 ]])"
      ]
     },
     "execution_count": 89,
     "metadata": {},
     "output_type": "execute_result"
    }
   ],
   "source": [
    "Mx * My * Mz"
   ]
  },
  {
   "cell_type": "code",
   "execution_count": 90,
   "metadata": {},
   "outputs": [
    {
     "data": {
      "text/plain": [
       "matrix([[ 0.90929654, -0.15931821,  0.38444441],\n",
       "        [ 0.2211822 ,  0.96754847, -0.12218184],\n",
       "        [-0.35250281,  0.19613178,  0.91502683]])"
      ]
     },
     "execution_count": 90,
     "metadata": {},
     "output_type": "execute_result"
    }
   ],
   "source": [
    "Mx * Mz * My"
   ]
  },
  {
   "cell_type": "code",
   "execution_count": 91,
   "metadata": {},
   "outputs": [],
   "source": [
    "M = Mx * My * Mz"
   ]
  },
  {
   "cell_type": "code",
   "execution_count": 92,
   "metadata": {},
   "outputs": [],
   "source": [
    "# M = np.mat([[1 + cos(theta[1]) + cos(theta[2]), -1*sin(theta[2]), sin(theta[1])],\n",
    "            #   [sin(theta[2]), 1 + cos(theta[0]) + cos(theta[2]), -1*sin(theta[0])],\n",
    "            #   [-1*sin(theta[1]), sin(theta[0]), 1 + cos(theta[0]) + cos(theta[1])]\n",
    "            #   ])"
   ]
  },
  {
   "cell_type": "code",
   "execution_count": 93,
   "metadata": {},
   "outputs": [
    {
     "data": {
      "text/plain": [
       "matrix([[ 0.90929654, -0.14674179,  0.38941834],\n",
       "        [ 0.23251976,  0.95522274, -0.18298657],\n",
       "        [-0.34512948,  0.25693652,  0.9027011 ]])"
      ]
     },
     "execution_count": 93,
     "metadata": {},
     "output_type": "execute_result"
    }
   ],
   "source": [
    "M"
   ]
  },
  {
   "cell_type": "code",
   "execution_count": 94,
   "metadata": {},
   "outputs": [
    {
     "data": {
      "text/plain": [
       "1.0"
      ]
     },
     "execution_count": 94,
     "metadata": {},
     "output_type": "execute_result"
    }
   ],
   "source": [
    "M[0,0]*M[1,1]*M[2,2]+M[1,0]*M[2,1]*M[0,2]+M[2,0]*M[0,1]*M[1,2] - M[0,2]*M[1,1]*M[2,0]-M[0,0]*M[1,2]*M[2,1]-M[0,1]*M[1,0]*M[2,2]"
   ]
  },
  {
   "cell_type": "code",
   "execution_count": 95,
   "metadata": {},
   "outputs": [],
   "source": [
    "v1 = np.array([1,0,0])"
   ]
  },
  {
   "cell_type": "code",
   "execution_count": 96,
   "metadata": {},
   "outputs": [
    {
     "data": {
      "text/plain": [
       "array([[1],\n",
       "       [0],\n",
       "       [0]])"
      ]
     },
     "execution_count": 96,
     "metadata": {},
     "output_type": "execute_result"
    }
   ],
   "source": [
    "v1.reshape(-1,1)"
   ]
  },
  {
   "cell_type": "code",
   "execution_count": 100,
   "metadata": {},
   "outputs": [
    {
     "data": {
      "text/plain": [
       "matrix([[ 0.90929654],\n",
       "        [ 0.23251976],\n",
       "        [-0.34512948]])"
      ]
     },
     "execution_count": 100,
     "metadata": {},
     "output_type": "execute_result"
    }
   ],
   "source": [
    "v2 = M * v1.reshape(-1, 1)\n",
    "v2"
   ]
  },
  {
   "cell_type": "code",
   "execution_count": null,
   "metadata": {},
   "outputs": [
    {
     "data": {
      "text/plain": [
       "matrix([[ 0.90929654],\n",
       "        [ 0.14674179],\n",
       "        [-0.38941834]])"
      ]
     },
     "execution_count": 102,
     "metadata": {},
     "output_type": "execute_result"
    }
   ],
   "source": [
    "Mz*My*Mx*v1.reshape(-1 , 1)"
   ]
  },
  {
   "cell_type": "code",
   "execution_count": 101,
   "metadata": {},
   "outputs": [
    {
     "data": {
      "text/plain": [
       "matrix([[1.]])"
      ]
     },
     "execution_count": 101,
     "metadata": {},
     "output_type": "execute_result"
    }
   ],
   "source": [
    "v2[0]**2 + v2[1]**2 + v2[2]**2"
   ]
  }
 ],
 "metadata": {
  "kernelspec": {
   "display_name": "Python 3",
   "language": "python",
   "name": "python3"
  },
  "language_info": {
   "codemirror_mode": {
    "name": "ipython",
    "version": 3
   },
   "file_extension": ".py",
   "mimetype": "text/x-python",
   "name": "python",
   "nbconvert_exporter": "python",
   "pygments_lexer": "ipython3",
   "version": "3.9.13"
  }
 },
 "nbformat": 4,
 "nbformat_minor": 2
}
