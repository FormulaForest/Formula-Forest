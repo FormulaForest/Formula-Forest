{
 "cells": [
  {
   "cell_type": "code",
   "execution_count": 63,
   "metadata": {},
   "outputs": [],
   "source": [
    "import numpy as np\n",
    "from math import cos, sin"
   ]
  },
  {
   "cell_type": "code",
   "execution_count": 64,
   "metadata": {},
   "outputs": [],
   "source": [
    "def det(M):\n",
    "    return M[0,0]*M[1,1]*M[2,2]+M[1,0]*M[2,1]*M[0,2]+M[2,0]*M[0,1]*M[1,2] - M[0,2]*M[1,1]*M[2,0]-M[0,0]*M[1,2]*M[2,1]-M[0,1]*M[1,0]*M[2,2]"
   ]
  },
  {
   "cell_type": "markdown",
   "metadata": {},
   "source": [
    "# Test of directional unit vector approach instead of vector theta."
   ]
  },
  {
   "cell_type": "code",
   "execution_count": 65,
   "metadata": {},
   "outputs": [],
   "source": [
    "omega = np.array([0.2, 0.4, 0.16])\n",
    "theta = [0.5, 1.0, 1.5]\n",
    "dt = 0.1"
   ]
  },
  {
   "cell_type": "code",
   "execution_count": 66,
   "metadata": {},
   "outputs": [],
   "source": [
    "Sigma = np.asmatrix([[0, -omega[2], omega[1]],\n",
    "            [omega[2], 0, -omega[0]],\n",
    "            [-omega[1], omega[0], 0]])"
   ]
  },
  {
   "cell_type": "code",
   "execution_count": 67,
   "metadata": {},
   "outputs": [
    {
     "data": {
      "text/plain": [
       "matrix([[ 1.   , -0.016,  0.04 ],\n",
       "        [ 0.016,  1.   , -0.02 ],\n",
       "        [-0.04 ,  0.02 ,  1.   ]])"
      ]
     },
     "execution_count": 67,
     "metadata": {},
     "output_type": "execute_result"
    }
   ],
   "source": [
    "R = np.identity(3) + Sigma * dt\n",
    "R"
   ]
  },
  {
   "cell_type": "code",
   "execution_count": 68,
   "metadata": {},
   "outputs": [
    {
     "data": {
      "text/plain": [
       "np.float64(1.0022559999999998)"
      ]
     },
     "execution_count": 68,
     "metadata": {},
     "output_type": "execute_result"
    }
   ],
   "source": [
    "det(R)"
   ]
  },
  {
   "cell_type": "code",
   "execution_count": 69,
   "metadata": {},
   "outputs": [
    {
     "data": {
      "text/plain": [
       "array([[1],\n",
       "       [0],\n",
       "       [0]])"
      ]
     },
     "execution_count": 69,
     "metadata": {},
     "output_type": "execute_result"
    }
   ],
   "source": [
    "v1 = np.array([1,0,0]).reshape(-1, 1)\n",
    "v1"
   ]
  },
  {
   "cell_type": "code",
   "execution_count": 70,
   "metadata": {},
   "outputs": [
    {
     "data": {
      "text/plain": [
       "matrix([[ 1.   ],\n",
       "        [ 0.016],\n",
       "        [-0.04 ]])"
      ]
     },
     "execution_count": 70,
     "metadata": {},
     "output_type": "execute_result"
    }
   ],
   "source": [
    "v2 = R * v1\n",
    "v2"
   ]
  },
  {
   "cell_type": "code",
   "execution_count": 71,
   "metadata": {},
   "outputs": [
    {
     "data": {
      "text/plain": [
       "matrix([[ 0.998144],\n",
       "        [ 0.0328  ],\n",
       "        [-0.07968 ]])"
      ]
     },
     "execution_count": 71,
     "metadata": {},
     "output_type": "execute_result"
    }
   ],
   "source": [
    "R*v2"
   ]
  },
  {
   "cell_type": "markdown",
   "metadata": {},
   "source": [
    "# Original approach - failed"
   ]
  },
  {
   "cell_type": "code",
   "execution_count": 72,
   "metadata": {},
   "outputs": [],
   "source": [
    "Mx = np.asmatrix([[1, 0, 0],\n",
    "              [0, cos(theta[0]), -1*sin(theta[0])],\n",
    "              [0, sin(theta[0]), cos(theta[0])]\n",
    "              ])"
   ]
  },
  {
   "cell_type": "code",
   "execution_count": 73,
   "metadata": {},
   "outputs": [
    {
     "data": {
      "text/plain": [
       "matrix([[ 1.        ,  0.        ,  0.        ],\n",
       "        [ 0.        ,  0.87758256, -0.47942554],\n",
       "        [ 0.        ,  0.47942554,  0.87758256]])"
      ]
     },
     "execution_count": 73,
     "metadata": {},
     "output_type": "execute_result"
    }
   ],
   "source": [
    "Mx"
   ]
  },
  {
   "cell_type": "code",
   "execution_count": 74,
   "metadata": {},
   "outputs": [],
   "source": [
    "My = np.asmatrix([[cos(theta[1]), 0, sin(theta[1])],\n",
    "              [0, 1, 0],\n",
    "              [-1*sin(theta[1]), 0, cos(theta[1])]\n",
    "              ])"
   ]
  },
  {
   "cell_type": "code",
   "execution_count": 75,
   "metadata": {},
   "outputs": [
    {
     "data": {
      "text/plain": [
       "matrix([[ 0.54030231,  0.        ,  0.84147098],\n",
       "        [ 0.        ,  1.        ,  0.        ],\n",
       "        [-0.84147098,  0.        ,  0.54030231]])"
      ]
     },
     "execution_count": 75,
     "metadata": {},
     "output_type": "execute_result"
    }
   ],
   "source": [
    "My"
   ]
  },
  {
   "cell_type": "code",
   "execution_count": 76,
   "metadata": {},
   "outputs": [],
   "source": [
    "Mz = np.asmatrix([[cos(theta[2]), -1*sin(theta[2]), 0],\n",
    "              [sin(theta[2]), cos(theta[2]), 0],\n",
    "              [0, 0, 1]\n",
    "              ])"
   ]
  },
  {
   "cell_type": "code",
   "execution_count": 77,
   "metadata": {},
   "outputs": [
    {
     "data": {
      "text/plain": [
       "matrix([[ 0.0707372 , -0.99749499,  0.        ],\n",
       "        [ 0.99749499,  0.0707372 ,  0.        ],\n",
       "        [ 0.        ,  0.        ,  1.        ]])"
      ]
     },
     "execution_count": 77,
     "metadata": {},
     "output_type": "execute_result"
    }
   ],
   "source": [
    "Mz"
   ]
  },
  {
   "cell_type": "code",
   "execution_count": 78,
   "metadata": {},
   "outputs": [
    {
     "data": {
      "text/plain": [
       "matrix([[ 0.03821947, -0.53894884,  0.84147098],\n",
       "        [ 0.9039212 , -0.34033437, -0.25903472],\n",
       "        [ 0.42598796,  0.77052363,  0.47415988]])"
      ]
     },
     "execution_count": 78,
     "metadata": {},
     "output_type": "execute_result"
    }
   ],
   "source": [
    "Mx * My * Mz"
   ]
  },
  {
   "cell_type": "code",
   "execution_count": 79,
   "metadata": {},
   "outputs": [
    {
     "data": {
      "text/plain": [
       "matrix([[ 0.03821947, -0.99749499,  0.0595233 ],\n",
       "        [ 0.87639479,  0.06207773,  0.47757569],\n",
       "        [-0.48007442,  0.03391322,  0.87657198]])"
      ]
     },
     "execution_count": 79,
     "metadata": {},
     "output_type": "execute_result"
    }
   ],
   "source": [
    "Mx * Mz * My"
   ]
  },
  {
   "cell_type": "code",
   "execution_count": 80,
   "metadata": {},
   "outputs": [],
   "source": [
    "M = Mx * My * Mz"
   ]
  },
  {
   "cell_type": "code",
   "execution_count": 81,
   "metadata": {},
   "outputs": [],
   "source": [
    "# M = np.mat([[1 + cos(theta[1]) + cos(theta[2]), -1*sin(theta[2]), sin(theta[1])],\n",
    "            #   [sin(theta[2]), 1 + cos(theta[0]) + cos(theta[2]), -1*sin(theta[0])],\n",
    "            #   [-1*sin(theta[1]), sin(theta[0]), 1 + cos(theta[0]) + cos(theta[1])]\n",
    "            #   ])"
   ]
  },
  {
   "cell_type": "code",
   "execution_count": 82,
   "metadata": {},
   "outputs": [
    {
     "data": {
      "text/plain": [
       "matrix([[ 0.03821947, -0.53894884,  0.84147098],\n",
       "        [ 0.9039212 , -0.34033437, -0.25903472],\n",
       "        [ 0.42598796,  0.77052363,  0.47415988]])"
      ]
     },
     "execution_count": 82,
     "metadata": {},
     "output_type": "execute_result"
    }
   ],
   "source": [
    "M"
   ]
  },
  {
   "cell_type": "code",
   "execution_count": 83,
   "metadata": {},
   "outputs": [
    {
     "data": {
      "text/plain": [
       "np.float64(1.0000000000000002)"
      ]
     },
     "execution_count": 83,
     "metadata": {},
     "output_type": "execute_result"
    }
   ],
   "source": [
    "M[0,0]*M[1,1]*M[2,2]+M[1,0]*M[2,1]*M[0,2]+M[2,0]*M[0,1]*M[1,2] - M[0,2]*M[1,1]*M[2,0]-M[0,0]*M[1,2]*M[2,1]-M[0,1]*M[1,0]*M[2,2]"
   ]
  },
  {
   "cell_type": "code",
   "execution_count": 84,
   "metadata": {},
   "outputs": [],
   "source": [
    "v1 = np.array([1,0,0])"
   ]
  },
  {
   "cell_type": "code",
   "execution_count": 85,
   "metadata": {},
   "outputs": [
    {
     "data": {
      "text/plain": [
       "array([[1],\n",
       "       [0],\n",
       "       [0]])"
      ]
     },
     "execution_count": 85,
     "metadata": {},
     "output_type": "execute_result"
    }
   ],
   "source": [
    "v1.reshape(-1,1)"
   ]
  },
  {
   "cell_type": "code",
   "execution_count": 86,
   "metadata": {},
   "outputs": [
    {
     "data": {
      "text/plain": [
       "matrix([[0.03821947],\n",
       "        [0.9039212 ],\n",
       "        [0.42598796]])"
      ]
     },
     "execution_count": 86,
     "metadata": {},
     "output_type": "execute_result"
    }
   ],
   "source": [
    "v2 = M * v1.reshape(-1, 1)\n",
    "v2"
   ]
  },
  {
   "cell_type": "code",
   "execution_count": 87,
   "metadata": {},
   "outputs": [
    {
     "data": {
      "text/plain": [
       "matrix([[ 0.03821947],\n",
       "        [ 0.53894884],\n",
       "        [-0.84147098]])"
      ]
     },
     "execution_count": 87,
     "metadata": {},
     "output_type": "execute_result"
    }
   ],
   "source": [
    "Mz*My*Mx*v1.reshape(-1 , 1)"
   ]
  },
  {
   "cell_type": "code",
   "execution_count": 88,
   "metadata": {},
   "outputs": [
    {
     "data": {
      "text/plain": [
       "matrix([[1.]])"
      ]
     },
     "execution_count": 88,
     "metadata": {},
     "output_type": "execute_result"
    }
   ],
   "source": [
    "v2[0]**2 + v2[1]**2 + v2[2]**2"
   ]
  }
 ],
 "metadata": {
  "kernelspec": {
   "display_name": "formula_forest_env (3.13.7)",
   "language": "python",
   "name": "python3"
  },
  "language_info": {
   "codemirror_mode": {
    "name": "ipython",
    "version": 3
   },
   "file_extension": ".py",
   "mimetype": "text/x-python",
   "name": "python",
   "nbconvert_exporter": "python",
   "pygments_lexer": "ipython3",
   "version": "3.13.7"
  }
 },
 "nbformat": 4,
 "nbformat_minor": 2
}
