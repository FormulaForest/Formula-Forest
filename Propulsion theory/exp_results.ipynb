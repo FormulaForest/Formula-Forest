{
 "cells": [
  {
   "cell_type": "code",
   "execution_count": 12,
   "metadata": {},
   "outputs": [],
   "source": [
    "import pandas as pd\n",
    "from matplotlib import pyplot as plt"
   ]
  },
  {
   "cell_type": "code",
   "execution_count": 56,
   "metadata": {},
   "outputs": [
    {
     "data": {
      "text/html": [
       "<div>\n",
       "<style scoped>\n",
       "    .dataframe tbody tr th:only-of-type {\n",
       "        vertical-align: middle;\n",
       "    }\n",
       "\n",
       "    .dataframe tbody tr th {\n",
       "        vertical-align: top;\n",
       "    }\n",
       "\n",
       "    .dataframe thead th {\n",
       "        text-align: right;\n",
       "    }\n",
       "</style>\n",
       "<table border=\"1\" class=\"dataframe\">\n",
       "  <thead>\n",
       "    <tr style=\"text-align: right;\">\n",
       "      <th></th>\n",
       "      <th>T</th>\n",
       "      <th>F1</th>\n",
       "      <th>F2</th>\n",
       "      <th>F</th>\n",
       "    </tr>\n",
       "  </thead>\n",
       "  <tbody>\n",
       "    <tr>\n",
       "      <th>0</th>\n",
       "      <td>0.000</td>\n",
       "      <td>-0.463081</td>\n",
       "      <td>0.054672</td>\n",
       "      <td>0.408409</td>\n",
       "    </tr>\n",
       "    <tr>\n",
       "      <th>1</th>\n",
       "      <td>0.005</td>\n",
       "      <td>-0.458885</td>\n",
       "      <td>0.042053</td>\n",
       "      <td>0.416832</td>\n",
       "    </tr>\n",
       "    <tr>\n",
       "      <th>2</th>\n",
       "      <td>0.010</td>\n",
       "      <td>-0.465172</td>\n",
       "      <td>0.046257</td>\n",
       "      <td>0.418915</td>\n",
       "    </tr>\n",
       "    <tr>\n",
       "      <th>3</th>\n",
       "      <td>0.015</td>\n",
       "      <td>-0.458885</td>\n",
       "      <td>0.044159</td>\n",
       "      <td>0.414726</td>\n",
       "    </tr>\n",
       "    <tr>\n",
       "      <th>4</th>\n",
       "      <td>0.020</td>\n",
       "      <td>-0.465172</td>\n",
       "      <td>0.033646</td>\n",
       "      <td>0.431526</td>\n",
       "    </tr>\n",
       "    <tr>\n",
       "      <th>...</th>\n",
       "      <td>...</td>\n",
       "      <td>...</td>\n",
       "      <td>...</td>\n",
       "      <td>...</td>\n",
       "    </tr>\n",
       "    <tr>\n",
       "      <th>1375</th>\n",
       "      <td>6.875</td>\n",
       "      <td>-0.180199</td>\n",
       "      <td>-0.008415</td>\n",
       "      <td>0.188614</td>\n",
       "    </tr>\n",
       "    <tr>\n",
       "      <th>1376</th>\n",
       "      <td>6.880</td>\n",
       "      <td>-0.178108</td>\n",
       "      <td>-0.012619</td>\n",
       "      <td>0.190727</td>\n",
       "    </tr>\n",
       "    <tr>\n",
       "      <th>1377</th>\n",
       "      <td>6.885</td>\n",
       "      <td>-0.182297</td>\n",
       "      <td>-0.012619</td>\n",
       "      <td>0.194916</td>\n",
       "    </tr>\n",
       "    <tr>\n",
       "      <th>1378</th>\n",
       "      <td>6.890</td>\n",
       "      <td>-0.182297</td>\n",
       "      <td>-0.006310</td>\n",
       "      <td>0.188606</td>\n",
       "    </tr>\n",
       "    <tr>\n",
       "      <th>1379</th>\n",
       "      <td>6.895</td>\n",
       "      <td>-0.178108</td>\n",
       "      <td>-0.006310</td>\n",
       "      <td>0.184418</td>\n",
       "    </tr>\n",
       "  </tbody>\n",
       "</table>\n",
       "<p>1380 rows × 4 columns</p>\n",
       "</div>"
      ],
      "text/plain": [
       "          T        F1        F2         F\n",
       "0     0.000 -0.463081  0.054672  0.408409\n",
       "1     0.005 -0.458885  0.042053  0.416832\n",
       "2     0.010 -0.465172  0.046257  0.418915\n",
       "3     0.015 -0.458885  0.044159  0.414726\n",
       "4     0.020 -0.465172  0.033646  0.431526\n",
       "...     ...       ...       ...       ...\n",
       "1375  6.875 -0.180199 -0.008415  0.188614\n",
       "1376  6.880 -0.178108 -0.012619  0.190727\n",
       "1377  6.885 -0.182297 -0.012619  0.194916\n",
       "1378  6.890 -0.182297 -0.006310  0.188606\n",
       "1379  6.895 -0.178108 -0.006310  0.184418\n",
       "\n",
       "[1380 rows x 4 columns]"
      ]
     },
     "execution_count": 56,
     "metadata": {},
     "output_type": "execute_result"
    }
   ],
   "source": [
    "df = pd.read_csv('prop_exp1.csv').iloc[:, :4]\n",
    "df.columns = ['T', 'F1', 'F2', 'F']\n",
    "df"
   ]
  },
  {
   "cell_type": "code",
   "execution_count": 29,
   "metadata": {},
   "outputs": [
    {
     "data": {
      "image/png": "[encoded data removed]",
      "text/plain": [
       "<Figure size 640x480 with 1 Axes>"
      ]
     },
     "metadata": {},
     "output_type": "display_data"
    }
   ],
   "source": [
    "plt.scatter(df['T'], df['F'], s=1)\n",
    "plt.show()"
   ]
  },
  {
   "cell_type": "code",
   "execution_count": 26,
   "metadata": {},
   "outputs": [],
   "source": [
    "def find_bg(df, ts, te):\n",
    "    df = df.copy()\n",
    "    df = df[(df['T'] >= ts) & (df['T'] <= te)]\n",
    "    # df['bg'] = df['F'].rolling(window=100).mean()\n",
    "    return df['F'].mean()"
   ]
  },
  {
   "cell_type": "code",
   "execution_count": 50,
   "metadata": {},
   "outputs": [],
   "source": [
    "def find_br(df_n, tp):\n",
    "    st = df_n[(df_n['T'] < tp) & (df_n['F'] < 0)].index[-1]\n",
    "    en = df_n[(df_n['T'] > tp) & (df_n['F'] < 0)].index[0]\n",
    "    return st, en"
   ]
  },
  {
   "cell_type": "code",
   "execution_count": 27,
   "metadata": {},
   "outputs": [
    {
     "data": {
      "text/plain": [
       "np.float64(0.17938433274693877)"
      ]
     },
     "execution_count": 27,
     "metadata": {},
     "output_type": "execute_result"
    }
   ],
   "source": [
    "find_bg(df, 2, 7)#.plot(x='T', y='bg')"
   ]
  },
  {
   "cell_type": "code",
   "execution_count": 32,
   "metadata": {},
   "outputs": [],
   "source": [
    "df_norm = df.copy()\n",
    "df_norm['F'] -= find_bg(df, 2, 7)"
   ]
  },
  {
   "cell_type": "code",
   "execution_count": 51,
   "metadata": {},
   "outputs": [
    {
     "data": {
      "text/plain": [
       "(np.int64(64), np.int64(206))"
      ]
     },
     "execution_count": 51,
     "metadata": {},
     "output_type": "execute_result"
    }
   ],
   "source": [
    "find_br(df_norm, 0.7)"
   ]
  },
  {
   "cell_type": "code",
   "execution_count": 52,
   "metadata": {},
   "outputs": [],
   "source": [
    "df_crop = df.copy()\n",
    "df_crop = df_crop.iloc[find_br(df_norm, 0.7)[0]:find_br(df_norm, 0.7)[1]]"
   ]
  },
  {
   "cell_type": "code",
   "execution_count": 53,
   "metadata": {},
   "outputs": [
    {
     "data": {
      "image/png": "[encoded data removed]",
      "text/plain": [
       "<Figure size 640x480 with 1 Axes>"
      ]
     },
     "metadata": {},
     "output_type": "display_data"
    }
   ],
   "source": [
    "plt.scatter(df_crop['T'], df_crop['F'], s=1)\n",
    "plt.show()"
   ]
  },
  {
   "cell_type": "code",
   "execution_count": 80,
   "metadata": {},
   "outputs": [],
   "source": [
    "def norm_crop(df, te, tp):\n",
    "    df = df.copy()\n",
    "    df = df[df['T'] >= te]\n",
    "    bg = df['F'].mean()\n",
    "    print(bg)\n",
    "    df_n = df.copy()\n",
    "    df_n['F'] -= bg\n",
    "    print(df_n)\n",
    "\n",
    "    print(df_n[(df_n['T'] < tp) & (df_n['F'] < 1)])\n",
    "    print(df_n[(df_n['T'] > tp) & (df_n['F'] < 1)])\n",
    "    st = df_n[(df_n['T'] < tp) & (df_n['F'] < 1)].index[-1]\n",
    "    en = df_n[(df_n['T'] > tp) & (df_n['F'] < 1)].index[0]\n",
    "    df_crop = df.iloc[st:en]\n",
    "    return df_crop"
   ]
  },
  {
   "cell_type": "code",
   "execution_count": 84,
   "metadata": {},
   "outputs": [
    {
     "data": {
      "text/html": [
       "<div>\n",
       "<style scoped>\n",
       "    .dataframe tbody tr th:only-of-type {\n",
       "        vertical-align: middle;\n",
       "    }\n",
       "\n",
       "    .dataframe tbody tr th {\n",
       "        vertical-align: top;\n",
       "    }\n",
       "\n",
       "    .dataframe thead th {\n",
       "        text-align: right;\n",
       "    }\n",
       "</style>\n",
       "<table border=\"1\" class=\"dataframe\">\n",
       "  <thead>\n",
       "    <tr style=\"text-align: right;\">\n",
       "      <th></th>\n",
       "      <th>T</th>\n",
       "      <th>F1</th>\n",
       "      <th>F2</th>\n",
       "      <th>F</th>\n",
       "    </tr>\n",
       "  </thead>\n",
       "  <tbody>\n",
       "    <tr>\n",
       "      <th>0</th>\n",
       "      <td>0.000</td>\n",
       "      <td>-0.463081</td>\n",
       "      <td>0.054672</td>\n",
       "      <td>0.408409</td>\n",
       "    </tr>\n",
       "    <tr>\n",
       "      <th>1</th>\n",
       "      <td>0.005</td>\n",
       "      <td>-0.458885</td>\n",
       "      <td>0.042053</td>\n",
       "      <td>0.416832</td>\n",
       "    </tr>\n",
       "    <tr>\n",
       "      <th>2</th>\n",
       "      <td>0.010</td>\n",
       "      <td>-0.465172</td>\n",
       "      <td>0.046257</td>\n",
       "      <td>0.418915</td>\n",
       "    </tr>\n",
       "    <tr>\n",
       "      <th>3</th>\n",
       "      <td>0.015</td>\n",
       "      <td>-0.458885</td>\n",
       "      <td>0.044159</td>\n",
       "      <td>0.414726</td>\n",
       "    </tr>\n",
       "    <tr>\n",
       "      <th>4</th>\n",
       "      <td>0.020</td>\n",
       "      <td>-0.465172</td>\n",
       "      <td>0.033646</td>\n",
       "      <td>0.431526</td>\n",
       "    </tr>\n",
       "    <tr>\n",
       "      <th>...</th>\n",
       "      <td>...</td>\n",
       "      <td>...</td>\n",
       "      <td>...</td>\n",
       "      <td>...</td>\n",
       "    </tr>\n",
       "    <tr>\n",
       "      <th>1375</th>\n",
       "      <td>6.875</td>\n",
       "      <td>-0.180199</td>\n",
       "      <td>-0.008415</td>\n",
       "      <td>0.188614</td>\n",
       "    </tr>\n",
       "    <tr>\n",
       "      <th>1376</th>\n",
       "      <td>6.880</td>\n",
       "      <td>-0.178108</td>\n",
       "      <td>-0.012619</td>\n",
       "      <td>0.190727</td>\n",
       "    </tr>\n",
       "    <tr>\n",
       "      <th>1377</th>\n",
       "      <td>6.885</td>\n",
       "      <td>-0.182297</td>\n",
       "      <td>-0.012619</td>\n",
       "      <td>0.194916</td>\n",
       "    </tr>\n",
       "    <tr>\n",
       "      <th>1378</th>\n",
       "      <td>6.890</td>\n",
       "      <td>-0.182297</td>\n",
       "      <td>-0.006310</td>\n",
       "      <td>0.188606</td>\n",
       "    </tr>\n",
       "    <tr>\n",
       "      <th>1379</th>\n",
       "      <td>6.895</td>\n",
       "      <td>-0.178108</td>\n",
       "      <td>-0.006310</td>\n",
       "      <td>0.184418</td>\n",
       "    </tr>\n",
       "  </tbody>\n",
       "</table>\n",
       "<p>1380 rows × 4 columns</p>\n",
       "</div>"
      ],
      "text/plain": [
       "          T        F1        F2         F\n",
       "0     0.000 -0.463081  0.054672  0.408409\n",
       "1     0.005 -0.458885  0.042053  0.416832\n",
       "2     0.010 -0.465172  0.046257  0.418915\n",
       "3     0.015 -0.458885  0.044159  0.414726\n",
       "4     0.020 -0.465172  0.033646  0.431526\n",
       "...     ...       ...       ...       ...\n",
       "1375  6.875 -0.180199 -0.008415  0.188614\n",
       "1376  6.880 -0.178108 -0.012619  0.190727\n",
       "1377  6.885 -0.182297 -0.012619  0.194916\n",
       "1378  6.890 -0.182297 -0.006310  0.188606\n",
       "1379  6.895 -0.178108 -0.006310  0.184418\n",
       "\n",
       "[1380 rows x 4 columns]"
      ]
     },
     "execution_count": 84,
     "metadata": {},
     "output_type": "execute_result"
    }
   ],
   "source": [
    "df"
   ]
  },
  {
   "cell_type": "code",
   "execution_count": 81,
   "metadata": {},
   "outputs": [
    {
     "name": "stdout",
     "output_type": "stream",
     "text": [
      "0.17938433274693877\n",
      "          T        F1        F2         F\n",
      "400   2.000 -0.150864 -0.039955  0.011434\n",
      "401   2.005 -0.152962 -0.035751  0.009329\n",
      "402   2.010 -0.155060  0.000000 -0.024325\n",
      "403   2.015 -0.152962 -0.014725 -0.011698\n",
      "404   2.020 -0.146675 -0.023132 -0.009577\n",
      "...     ...       ...       ...       ...\n",
      "1375  6.875 -0.180199 -0.008415  0.009230\n",
      "1376  6.880 -0.178108 -0.012619  0.011343\n",
      "1377  6.885 -0.182297 -0.012619  0.015531\n",
      "1378  6.890 -0.182297 -0.006310  0.009222\n",
      "1379  6.895 -0.178108 -0.006310  0.005033\n",
      "\n",
      "[980 rows x 4 columns]\n",
      "Empty DataFrame\n",
      "Columns: [T, F1, F2, F]\n",
      "Index: []\n",
      "          T        F1        F2         F\n",
      "400   2.000 -0.150864 -0.039955  0.011434\n",
      "401   2.005 -0.152962 -0.035751  0.009329\n",
      "402   2.010 -0.155060  0.000000 -0.024325\n",
      "403   2.015 -0.152962 -0.014725 -0.011698\n",
      "404   2.020 -0.146675 -0.023132 -0.009577\n",
      "...     ...       ...       ...       ...\n",
      "1375  6.875 -0.180199 -0.008415  0.009230\n",
      "1376  6.880 -0.178108 -0.012619  0.011343\n",
      "1377  6.885 -0.182297 -0.012619  0.015531\n",
      "1378  6.890 -0.182297 -0.006310  0.009222\n",
      "1379  6.895 -0.178108 -0.006310  0.005033\n",
      "\n",
      "[980 rows x 4 columns]\n"
     ]
    },
    {
     "ename": "IndexError",
     "evalue": "index -1 is out of bounds for axis 0 with size 0",
     "output_type": "error",
     "traceback": [
      "\u001b[1;31m---------------------------------------------------------------------------\u001b[0m",
      "\u001b[1;31mIndexError\u001b[0m                                Traceback (most recent call last)",
      "Cell \u001b[1;32mIn[81], line 1\u001b[0m\n\u001b[1;32m----> 1\u001b[0m df_crop \u001b[38;5;241m=\u001b[39m \u001b[43mnorm_crop\u001b[49m\u001b[43m(\u001b[49m\u001b[43mdf\u001b[49m\u001b[43m,\u001b[49m\u001b[43m \u001b[49m\u001b[38;5;241;43m2\u001b[39;49m\u001b[43m,\u001b[49m\u001b[43m \u001b[49m\u001b[38;5;241;43m0.7\u001b[39;49m\u001b[43m)\u001b[49m\n",
      "Cell \u001b[1;32mIn[80], line 12\u001b[0m, in \u001b[0;36mnorm_crop\u001b[1;34m(df, te, tp)\u001b[0m\n\u001b[0;32m     10\u001b[0m \u001b[38;5;28mprint\u001b[39m(df_n[(df_n[\u001b[38;5;124m'\u001b[39m\u001b[38;5;124mT\u001b[39m\u001b[38;5;124m'\u001b[39m] \u001b[38;5;241m<\u001b[39m tp) \u001b[38;5;241m&\u001b[39m (df_n[\u001b[38;5;124m'\u001b[39m\u001b[38;5;124mF\u001b[39m\u001b[38;5;124m'\u001b[39m] \u001b[38;5;241m<\u001b[39m \u001b[38;5;241m1\u001b[39m)])\n\u001b[0;32m     11\u001b[0m \u001b[38;5;28mprint\u001b[39m(df_n[(df_n[\u001b[38;5;124m'\u001b[39m\u001b[38;5;124mT\u001b[39m\u001b[38;5;124m'\u001b[39m] \u001b[38;5;241m>\u001b[39m tp) \u001b[38;5;241m&\u001b[39m (df_n[\u001b[38;5;124m'\u001b[39m\u001b[38;5;124mF\u001b[39m\u001b[38;5;124m'\u001b[39m] \u001b[38;5;241m<\u001b[39m \u001b[38;5;241m1\u001b[39m)])\n\u001b[1;32m---> 12\u001b[0m st \u001b[38;5;241m=\u001b[39m \u001b[43mdf_n\u001b[49m\u001b[43m[\u001b[49m\u001b[43m(\u001b[49m\u001b[43mdf_n\u001b[49m\u001b[43m[\u001b[49m\u001b[38;5;124;43m'\u001b[39;49m\u001b[38;5;124;43mT\u001b[39;49m\u001b[38;5;124;43m'\u001b[39;49m\u001b[43m]\u001b[49m\u001b[43m \u001b[49m\u001b[38;5;241;43m<\u001b[39;49m\u001b[43m \u001b[49m\u001b[43mtp\u001b[49m\u001b[43m)\u001b[49m\u001b[43m \u001b[49m\u001b[38;5;241;43m&\u001b[39;49m\u001b[43m \u001b[49m\u001b[43m(\u001b[49m\u001b[43mdf_n\u001b[49m\u001b[43m[\u001b[49m\u001b[38;5;124;43m'\u001b[39;49m\u001b[38;5;124;43mF\u001b[39;49m\u001b[38;5;124;43m'\u001b[39;49m\u001b[43m]\u001b[49m\u001b[43m \u001b[49m\u001b[38;5;241;43m<\u001b[39;49m\u001b[43m \u001b[49m\u001b[38;5;241;43m1\u001b[39;49m\u001b[43m)\u001b[49m\u001b[43m]\u001b[49m\u001b[38;5;241;43m.\u001b[39;49m\u001b[43mindex\u001b[49m\u001b[43m[\u001b[49m\u001b[38;5;241;43m-\u001b[39;49m\u001b[38;5;241;43m1\u001b[39;49m\u001b[43m]\u001b[49m\n\u001b[0;32m     13\u001b[0m en \u001b[38;5;241m=\u001b[39m df_n[(df_n[\u001b[38;5;124m'\u001b[39m\u001b[38;5;124mT\u001b[39m\u001b[38;5;124m'\u001b[39m] \u001b[38;5;241m>\u001b[39m tp) \u001b[38;5;241m&\u001b[39m (df_n[\u001b[38;5;124m'\u001b[39m\u001b[38;5;124mF\u001b[39m\u001b[38;5;124m'\u001b[39m] \u001b[38;5;241m<\u001b[39m \u001b[38;5;241m1\u001b[39m)]\u001b[38;5;241m.\u001b[39mindex[\u001b[38;5;241m0\u001b[39m]\n\u001b[0;32m     14\u001b[0m df_crop \u001b[38;5;241m=\u001b[39m df\u001b[38;5;241m.\u001b[39miloc[st:en]\n",
      "File \u001b[1;32m~\\AppData\\Local\\Packages\\PythonSoftwareFoundation.Python.3.11_qbz5n2kfra8p0\\LocalCache\\local-packages\\Python311\\site-packages\\pandas\\core\\indexes\\base.py:5389\u001b[0m, in \u001b[0;36mIndex.__getitem__\u001b[1;34m(self, key)\u001b[0m\n\u001b[0;32m   5386\u001b[0m \u001b[38;5;28;01mif\u001b[39;00m is_integer(key) \u001b[38;5;129;01mor\u001b[39;00m is_float(key):\n\u001b[0;32m   5387\u001b[0m     \u001b[38;5;66;03m# GH#44051 exclude bool, which would return a 2d ndarray\u001b[39;00m\n\u001b[0;32m   5388\u001b[0m     key \u001b[38;5;241m=\u001b[39m com\u001b[38;5;241m.\u001b[39mcast_scalar_indexer(key)\n\u001b[1;32m-> 5389\u001b[0m     \u001b[38;5;28;01mreturn\u001b[39;00m \u001b[43mgetitem\u001b[49m\u001b[43m(\u001b[49m\u001b[43mkey\u001b[49m\u001b[43m)\u001b[49m\n\u001b[0;32m   5391\u001b[0m \u001b[38;5;28;01mif\u001b[39;00m \u001b[38;5;28misinstance\u001b[39m(key, \u001b[38;5;28mslice\u001b[39m):\n\u001b[0;32m   5392\u001b[0m     \u001b[38;5;66;03m# This case is separated from the conditional above to avoid\u001b[39;00m\n\u001b[0;32m   5393\u001b[0m     \u001b[38;5;66;03m# pessimization com.is_bool_indexer and ndim checks.\u001b[39;00m\n\u001b[0;32m   5394\u001b[0m     \u001b[38;5;28;01mreturn\u001b[39;00m \u001b[38;5;28mself\u001b[39m\u001b[38;5;241m.\u001b[39m_getitem_slice(key)\n",
      "\u001b[1;31mIndexError\u001b[0m: index -1 is out of bounds for axis 0 with size 0"
     ]
    }
   ],
   "source": [
    "df_crop = norm_crop(df, 2, 0.7)"
   ]
  },
  {
   "cell_type": "code",
   "execution_count": 69,
   "metadata": {},
   "outputs": [
    {
     "data": {
      "image/png": "[encoded data removed]",
      "text/plain": [
       "<Figure size 640x480 with 1 Axes>"
      ]
     },
     "metadata": {},
     "output_type": "display_data"
    }
   ],
   "source": [
    "plt.scatter(df_crop['T'], df_crop['F'], s=1)\n",
    "plt.show()"
   ]
  }
 ],
 "metadata": {
  "kernelspec": {
   "display_name": "Python 3",
   "language": "python",
   "name": "python3"
  },
  "language_info": {
   "codemirror_mode": {
    "name": "ipython",
    "version": 3
   },
   "file_extension": ".py",
   "mimetype": "text/x-python",
   "name": "python",
   "nbconvert_exporter": "python",
   "pygments_lexer": "ipython3",
   "version": "3.11.9"
  }
 },
 "nbformat": 4,
 "nbformat_minor": 2
}
